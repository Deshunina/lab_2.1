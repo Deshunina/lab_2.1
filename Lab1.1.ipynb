{
 "metadata": {
  "name": "",
  "signature": "sha256:378d773dcac43bb420b7f117e405850584435f24a0135ed30b85f0650d05eef0"
 },
 "nbformat": 3,
 "nbformat_minor": 0,
 "worksheets": [
  {
   "cells": [
    {
     "cell_type": "code",
     "collapsed": false,
     "input": [
      "import urllib2\n",
      "\n",
      "URL = \"http://www.star.nesdis.noaa.gov/smcd/emb/vci/gvix/G04/ts_L1/ByProvince/Mean/L1_Mean_UKR.R%02d.txt\"\n",
      "list_url = [1,2,3,4,5,6,7,8,9,10,11,12,13,14,15,16,17,18,19,20,21,22,23,24,25]\n",
      "oldId2new = [22, 24, 23, 25, 3, 4, 8, 19, 20, 21, 9, 10, 11, 12, 13, 14, 15, 16, 17, 18, 6, 1, 2, 7, 5]\n",
      "\n",
      "def newRegion(oldId):                  \n",
      "    return oldId2new.index(oldId)+1     #\u0444\u0443\u043d\u043a\u0446\u0456\u044f, \u044f\u043a\u0430 \u0437\u043c\u0456\u043d\u044e\u0454 \u0456\u043d\u0434\u0435\u043a\u0441\u0438 \u043e\u0431\u043b\u0430\u0441\u0442\u0435\u0439, \u044f\u043a\u0456 \u0432\u0438\u043a\u043e\u0440\u0438\u0441\u0442\u0430\u043d\u0456 \u043d\u0430 \u043f\u043e\u0440\u0442\u0430\u043b\u0456 NOAA\n",
      "\n",
      "def func():                             #\u0444\u0443\u043d\u043a\u0446\u0456\u044f, \u044f\u043a\u0430 \u0441\u043a\u0430\u0447\u0443\u0454 \u0444\u0430\u0439\u043b\u0438 \u0437 \u043f\u043e\u0440\u0442\u0430\u043b\u0443 NOAA\n",
      "    for index_reg in list_url:\n",
      "        url = URL%index_reg             #\u0437\u0430\u043c\u0456\u043d\u044f\u0454\u043c\u043e \u0432 \u0440\u044f\u0434\u043a\u0443 URL \u0438\u043d\u0434\u0435\u043a\u0441 \u043d\u0430 \u0437\u043c\u044b\u043d\u043d\u0443 index_re\n",
      "        vhi_url = urllib2.urlopen(url)\n",
      "        out = open('vhi_id_%d.csv'%newRegion(index_reg),'wb')  #\u0432\u0456\u0434\u043a\u0440\u0438\u0432\u0430\u0454\u043c\u043e \u0444\u0430\u0439\u043b\u0438 \u0434\u043b\u044f \u0437\u0430\u043f\u0438\u0441\u0443 \u0432 \u043d\u0438\u0445 \u0434\u0430\u043d\u0438\u0445 \u0437 \u043f\u043e\u0440\u0442\u0430\u043b\u0443 \u043e\u043a\u0440\u0435\u043c\u043e \u043a\u043e\u0436\u043d\u0443 \u043e\u0431\u043b\u0430\u0441\u0442\u044c\n",
      "        out.write(vhi_url.read())\n",
      "        out.close()\n",
      "    print \"VHI is downloaded...\"\n",
      "print func()"
     ],
     "language": "python",
     "metadata": {},
     "outputs": []
    },
    {
     "cell_type": "code",
     "collapsed": false,
     "input": [
      "def region2id(region):  #\u0441\u0442\u0430\u0432\u0438\u043c\u043e \u0443 \u0432\u0456\u0434\u043f\u043e\u0432\u0456\u0434\u043d\u0456\u0441\u0442\u044c \u043d\u0430\u0437\u0432\u0443 \u0440\u0435\u0433\u0456\u043e\u043d\u0443 \u0442\u0430 \u0457\u0457 \u0456\u043d\u0434\u0435\u043a\u0441\n",
      "    d = ['Vin', 'Volyn', 'Dnip', 'Don', 'Zhin', \n",
      "         'Zakarpatska', 'Zap', 'Ivan', 'Kiev', 'Kirov', \n",
      "         'Luh', 'Lviv', 'Mikola', 'Odessa', 'Poltava', \n",
      "         'Rovno', 'Sum', 'Tern', 'Hark', 'Her', \n",
      "         'Hmel', 'Cherk', 'Chern', 'Chernih', 'Crimea']\n",
      "    return (d.index(region))+1"
     ],
     "language": "python",
     "metadata": {},
     "outputs": [],
     "prompt_number": 3
    },
    {
     "cell_type": "code",
     "collapsed": false,
     "input": [
      "def VHI_correct(data):  #\u0440\u043e\u0431\u0438\u043c\u043e \u0432\u0438\u0431\u0456\u0440\u043a\u0443 \u0434\u0430\u043d\u0438\u0445 \u0443 \u044f\u043a\u0438\u0445 VHI>0\n",
      "    return data.loc[data['VHI']>0]"
     ],
     "language": "python",
     "metadata": {},
     "outputs": [],
     "prompt_number": 4
    },
    {
     "cell_type": "code",
     "collapsed": false,
     "input": [
      "import pandas as pd \n",
      "def getData(reg_id, path=''):  #\u043e\u0442\u0440\u0438\u043c\u0443\u0454\u043c\u043e \u0434\u0430\u043d\u0456 \u0437 \u0444\u0430\u0439\u043b\u0443 \u0437\u0430 \u043a\u043e\u043d\u043a\u0440\u0435\u0442\u043d\u0443 \u043e\u0431\u043b\u0430\u0441\u0442\u044c, \u0442\u0430 \u0437\u043c\u0456\u043d\u044e\u0454\u043c\u043e \u043d\u0430\u0437\u0432\u0438 \u0441\u0442\u043e\u0432\u043f\u0447\u0438\u043a\u0456\u0432 \u043d\u0430 \u043d\u0430\u0448\u0456\n",
      "    return VHI_correct(pd.read_csv(path + 'vhi_id_%d.csv'%reg_id, names=['Year', 'Week', 'SMN', 'SMT', 'VCI', 'TCI', 'VHI', 'VHI<15', 'VHI<35'], header=1))"
     ],
     "language": "python",
     "metadata": {},
     "outputs": [],
     "prompt_number": 5
    },
    {
     "cell_type": "code",
     "collapsed": false,
     "input": [
      "def getYear(data, year):    #\u043e\u0442\u0440\u0438\u043c\u0443\u0454\u043c\u043e \u0434\u0430\u043d\u0456 \u0437\u0430 \u043f\u0435\u0432\u043d\u0438\u0439 \u0440\u0456\u043a\n",
      "    return data.loc[data['Year']==year]"
     ],
     "language": "python",
     "metadata": {},
     "outputs": [],
     "prompt_number": 6
    },
    {
     "cell_type": "code",
     "collapsed": false,
     "input": [
      "def getWeek(data, week, year):\n",
      "    return getYear((data.loc[data['Week']==week]), year)"
     ],
     "language": "python",
     "metadata": {},
     "outputs": [],
     "prompt_number": 7
    },
    {
     "cell_type": "code",
     "collapsed": false,
     "input": [
      "print getWeek(getData(13), 1, 1985)"
     ],
     "language": "python",
     "metadata": {},
     "outputs": [
      {
       "output_type": "stream",
       "stream": "stdout",
       "text": [
        "     Year  Week   SMN      SMT    VCI    TCI    VHI  VHI<15  VHI<35\n",
        "174  1985     1  0.07  257.088  73.94  41.94  57.94       0    4.76\n"
       ]
      }
     ],
     "prompt_number": 8
    },
    {
     "cell_type": "code",
     "collapsed": false,
     "input": [
      "#print getYear(getData(3), 1985)"
     ],
     "language": "python",
     "metadata": {},
     "outputs": [],
     "prompt_number": 9
    },
    {
     "cell_type": "code",
     "collapsed": false,
     "input": [
      "#def findMax(data, column, year):\n",
      "    #return data.loc[[getYear(data, year)[column].idxmax()]][column]"
     ],
     "language": "python",
     "metadata": {},
     "outputs": [],
     "prompt_number": 11
    },
    {
     "cell_type": "code",
     "collapsed": false,
     "input": [
      "#print findMax(getData(1),'VHI',2003)"
     ],
     "language": "python",
     "metadata": {},
     "outputs": [],
     "prompt_number": 12
    },
    {
     "cell_type": "code",
     "collapsed": false,
     "input": [
      "#def findMin(data, column, year):\n",
      "#   return data.loc[[getYear(data, year)[column].idxmin()]][column]"
     ],
     "language": "python",
     "metadata": {},
     "outputs": [],
     "prompt_number": 13
    },
    {
     "cell_type": "code",
     "collapsed": false,
     "input": [
      "#print findMin(getData(3),'VHI',2003)"
     ],
     "language": "python",
     "metadata": {},
     "outputs": [],
     "prompt_number": 14
    },
    {
     "cell_type": "code",
     "collapsed": false,
     "input": [
      "def getColumnAsList(data, column):  #\u043e\u0442\u0440\u0438\u043c\u0443\u0454\u043c\u043e \u0434\u0430\u043d\u0456 \u0432 \u0432\u0438\u0433\u043b\u044f\u0434\u0456 \u043c\u0430\u0441\u0438\u0432\u0443\n",
      "    return data[column].tolist()"
     ],
     "language": "python",
     "metadata": {},
     "outputs": [],
     "prompt_number": 15
    },
    {
     "cell_type": "code",
     "collapsed": false,
     "input": [
      "def getMax(ray):  #\n",
      "    return max(ray)"
     ],
     "language": "python",
     "metadata": {},
     "outputs": [],
     "prompt_number": 16
    },
    {
     "cell_type": "code",
     "collapsed": false,
     "input": [
      "def getMin(ray):\n",
      "    return min(ray)"
     ],
     "language": "python",
     "metadata": {},
     "outputs": [],
     "prompt_number": 17
    },
    {
     "cell_type": "code",
     "collapsed": false,
     "input": [
      "def task1min(region,year):\n",
      "    return getMin(getColumnAsList(getYear(getData(region2id(region)),year),'VHI'))"
     ],
     "language": "python",
     "metadata": {},
     "outputs": [],
     "prompt_number": 18
    },
    {
     "cell_type": "code",
     "collapsed": false,
     "input": [
      "print task1min('Zakarpatska', 1985)"
     ],
     "language": "python",
     "metadata": {},
     "outputs": [
      {
       "output_type": "stream",
       "stream": "stdout",
       "text": [
        "24.45\n"
       ]
      }
     ],
     "prompt_number": 19
    },
    {
     "cell_type": "code",
     "collapsed": false,
     "input": [
      "def task1max(region,year):\n",
      "    return getMax(getColumnAsList(getYear(getData(region2id(region)),year),'VHI'))"
     ],
     "language": "python",
     "metadata": {},
     "outputs": [],
     "prompt_number": 20
    },
    {
     "cell_type": "code",
     "collapsed": false,
     "input": [
      "print task1max('Zakarpatska', 1985)"
     ],
     "language": "python",
     "metadata": {},
     "outputs": [
      {
       "output_type": "stream",
       "stream": "stdout",
       "text": [
        "61.68\n"
       ]
      }
     ],
     "prompt_number": 21
    },
    {
     "cell_type": "code",
     "collapsed": false,
     "input": [
      "def task2(data, prc):\n",
      "    return data.loc[data['VHI<15']>prc]['Year'].unique().tolist()"
     ],
     "language": "python",
     "metadata": {},
     "outputs": [],
     "prompt_number": 24
    },
    {
     "cell_type": "code",
     "collapsed": false,
     "input": [
      "print task2(getData(3), 25)"
     ],
     "language": "python",
     "metadata": {},
     "outputs": [
      {
       "output_type": "stream",
       "stream": "stdout",
       "text": [
        "[1985L, 2000L]\n"
       ]
      }
     ],
     "prompt_number": 25
    },
    {
     "cell_type": "code",
     "collapsed": false,
     "input": [
      "def task3(data, prc):\n",
      "    return data.loc[data['VHI<35']>prc]['Year'].unique().tolist()"
     ],
     "language": "python",
     "metadata": {},
     "outputs": [],
     "prompt_number": 127
    },
    {
     "cell_type": "code",
     "collapsed": false,
     "input": [
      "print task3(getData(3), 25)"
     ],
     "language": "python",
     "metadata": {},
     "outputs": [
      {
       "output_type": "stream",
       "stream": "stdout",
       "text": [
        "[1981L, 1982L, 1983L, 1984L, 1985L, 1986L, 1987L, 1988L, 1989L, 1990L, 1991L, 1992L, 1993L, 1994L, 1995L, 1996L, 1997L, 1999L, 2000L, 2001L, 2002L, 2003L, 2006L, 2007L, 2008L, 2009L, 2010L, 2011L, 2014L, 2015L]\n"
       ]
      }
     ],
     "prompt_number": 128
    },
    {
     "cell_type": "code",
     "collapsed": false,
     "input": [
      "import matplotlib.pyplot as plt\n",
      "def func_graf(region, year):\n",
      "    plt.xlabel('Weeks')\n",
      "    plt.ylabel('VHI')\n",
      "    plt.title('Histogram of the '+ region +' region for %d year' %year)\n",
      "    plt.plot( getColumnAsList(getYear(getData(region2id(region)),year),'Week'),getColumnAsList(getYear(getData(region2id(region)),year),'VHI'), 'm')\n",
      "    plt.axis([1, 52, -5, 80])\n",
      "    return plt.show()"
     ],
     "language": "python",
     "metadata": {},
     "outputs": [],
     "prompt_number": 129
    },
    {
     "cell_type": "code",
     "collapsed": false,
     "input": [
      "print func_graf('Zakarpatska',1985)"
     ],
     "language": "python",
     "metadata": {},
     "outputs": [
      {
       "metadata": {},
       "output_type": "display_data",
       "png": "[encoded data removed]",
       "text": [
        "<matplotlib.figure.Figure at 0x9c0a050>"
       ]
      },
      {
       "output_type": "stream",
       "stream": "stdout",
       "text": [
        "None\n"
       ]
      }
     ],
     "prompt_number": 130
    },
    {
     "cell_type": "code",
     "collapsed": false,
     "input": [
      "print func_graf('Zakarpatska',2013)"
     ],
     "language": "python",
     "metadata": {},
     "outputs": [
      {
       "metadata": {},
       "output_type": "display_data",
       "png": "[encoded data removed]",
       "text": [
        "<matplotlib.figure.Figure at 0x9d851f0>"
       ]
      },
      {
       "output_type": "stream",
       "stream": "stdout",
       "text": [
        "None\n"
       ]
      }
     ],
     "prompt_number": 131
    },
    {
     "cell_type": "code",
     "collapsed": false,
     "input": [
      "def delete_year(data):\n",
      "    return data.loc[data['VHI']<0]['Year']"
     ],
     "language": "python",
     "metadata": {},
     "outputs": [],
     "prompt_number": 75
    },
    {
     "cell_type": "code",
     "collapsed": false,
     "input": [
      "#print delete_year(getData(6))"
     ],
     "language": "python",
     "metadata": {},
     "outputs": [],
     "prompt_number": 77
    },
    {
     "cell_type": "code",
     "collapsed": false,
     "input": [
      "def delete_week(data):\n",
      "    return data.loc[data['VHI']<0]['Week'].tolist()"
     ],
     "language": "python",
     "metadata": {},
     "outputs": [],
     "prompt_number": 32
    },
    {
     "cell_type": "code",
     "collapsed": false,
     "input": [
      "#print delete_week(getData(9))"
     ],
     "language": "python",
     "metadata": {},
     "outputs": [],
     "prompt_number": 132
    }
   ],
   "metadata": {}
  }
 ]
}