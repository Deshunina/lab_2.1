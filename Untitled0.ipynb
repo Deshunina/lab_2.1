{
 "metadata": {
  "name": "",
  "signature": "sha256:e2c6d20b2cdc0c921dc1299a90b3819bbd4b9f1c06f168d9917b40655b3a0d28"
 },
 "nbformat": 3,
 "nbformat_minor": 0,
 "worksheets": []
}